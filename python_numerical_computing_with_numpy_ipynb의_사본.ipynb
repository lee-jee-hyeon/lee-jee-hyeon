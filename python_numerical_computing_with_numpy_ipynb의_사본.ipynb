{
  "nbformat": 4,
  "nbformat_minor": 0,
  "metadata": {
    "kernelspec": {
      "display_name": "Python 3",
      "language": "python",
      "name": "python3"
    },
    "language_info": {
      "codemirror_mode": {
        "name": "ipython",
        "version": 3
      },
      "file_extension": ".py",
      "mimetype": "text/x-python",
      "name": "python",
      "nbconvert_exporter": "python",
      "pygments_lexer": "ipython3",
      "version": "3.8.8"
    },
    "colab": {
      "name": "python-numerical-computing-with-numpy.ipynb의 사본",
      "provenance": [],
      "collapsed_sections": [
        "soIK6KeU8MRW",
        "ISWbN9A-8MRX",
        "azDPoMGP8MRZ",
        "xq-6M49f8MRa",
        "J7QphGG78MRc"
      ],
      "include_colab_link": true
    }
  },
  "cells": [
    {
      "cell_type": "markdown",
      "metadata": {
        "id": "view-in-github",
        "colab_type": "text"
      },
      "source": [
        "<a href=\"https://colab.research.google.com/github/lee-jee-hyeon/lee-jee-hyeon/blob/main/python_numerical_computing_with_numpy_ipynb%EC%9D%98_%EC%82%AC%EB%B3%B8.ipynb\" target=\"_parent\"><img src=\"https://colab.research.google.com/assets/colab-badge.svg\" alt=\"Open In Colab\"/></a>"
      ]
    },
    {
      "cell_type": "markdown",
      "metadata": {
        "id": "4I8GCOU2EIvw"
      },
      "source": [
        "# Working in Colab"
      ]
    },
    {
      "cell_type": "code",
      "metadata": {
        "id": "M3dUSLcU8Sl8",
        "colab": {
          "base_uri": "https://localhost:8080/"
        },
        "outputId": "7f2d2c3e-6da6-44ee-b0a6-728651b14021"
      },
      "source": [
        "from google.colab import drive\n",
        "drive.mount(\"/content/gdrive\")"
      ],
      "execution_count": null,
      "outputs": [
        {
          "output_type": "stream",
          "name": "stdout",
          "text": [
            "Mounted at /content/gdrive\n"
          ]
        }
      ]
    },
    {
      "cell_type": "code",
      "metadata": {
        "id": "FyRPyVGB8V-z"
      },
      "source": [
        "root_path = '/content/gdrive/My Drive/ML/Basic'"
      ],
      "execution_count": null,
      "outputs": []
    },
    {
      "cell_type": "markdown",
      "metadata": {
        "id": "7L_r8kgIgkMl"
      },
      "source": [
        "## 임가현 멘토 질문 : 데이터분석가가 Numpy를 사용하는 이유?"
      ]
    },
    {
      "cell_type": "markdown",
      "metadata": {
        "id": "AjI6NYUG8MQ6"
      },
      "source": [
        "# Python 및 Numpy를 사용한 수치 계산\n",
        "\n",
        "![](https://i.imgur.com/mg8O3kd.png)"
      ]
    },
    {
      "cell_type": "markdown",
      "metadata": {
        "id": "CV0ZXofA8MRD"
      },
      "source": [
        "## 숫자 데이터 작업\n",
        "데이터 분석의 \"데이터\"는 일반적으로 주가, 판매 수치, 센서 측정, 스포츠 점수, 데이터베이스 테이블 등과 같은 수치 데이터를 나타냅니다. Numpy 라이브러리는 Python의 수치 컴퓨팅을 위한 특수 데이터 구조, 기능 및 기타 도구를 제공합니다. . 숫자 데이터 작업에 Numpy를 사용하는 이유와 방법을 알아보기 위해 예제를 살펴보겠습니다."
      ]
    },
    {
      "cell_type": "markdown",
      "metadata": {
        "id": "T_5zdJRS8MRD"
      },
      "source": [
        "> 온도, 강우량 및 습도와 같은 기후 데이터를 사용하여 해당 지역이 사과 재배에 적합한지 결정한다고 가정합니다. 이를 위한 간단한 접근 방식은 사과의 연간 수확량(헥타르당 톤)과 평균 온도(화씨 단위), 강우량(밀리미터 단위) 및 평균 상대 습도(백분율 단위)와 같은 기후 조건 간의 관계를 공식화하는 것입니다. 선형 방정식으로.\n",
        "\n",
        "> yield_of_apples = w1 * 온도 + w2 * 강우량 + w3 * 습도\n",
        "\n",
        "우리는 사과의 수확량을 온도, 강우량 및 습도의 가중치 합으로 표현하고 있습니다. 실제 관계가 반드시 선형일 필요는 없고 다른 요인이 관련될 수 있으므로 이 방정식은 근사치입니다. 그러나 이와 같은 단순한 선형 모델은 종종 실제로 잘 작동합니다.\n",
        "\n",
        "과거 데이터에 대한 일부 정적 분석을 기반으로 w1, w2 및 w3 가중치에 대해 합리적인 값을 제시할 수 있습니다. 다음은 값 집합의 예입니다."
      ]
    },
    {
      "cell_type": "code",
      "metadata": {
        "id": "tRClNRyO8MRE"
      },
      "source": [
        "w1, w2, w3 = 0.3, 0.2, 0.5"
      ],
      "execution_count": null,
      "outputs": []
    },
    {
      "cell_type": "markdown",
      "metadata": {
        "id": "4-_t-fcW8MRF"
      },
      "source": [
        "지역에 대한 일부 기후 데이터가 주어지면 이제 사과 수확량을 예측할 수 있습니다. 다음은 몇 가지 샘플 데이터입니다.\n",
        "<img src=\"https://i.imgur.com/TXPBiqv.png\" style=\"width:360px;\"><br>\n",
        "시작하려면 지역의 기후 데이터를 기록하기 위해 몇 가지 변수를 정의할 수 있습니다."
      ]
    },
    {
      "cell_type": "code",
      "metadata": {
        "id": "BNl6nrWD8MRF"
      },
      "source": [
        "kanto_temp = 73\n",
        "kanto_rainfall = 67\n",
        "kanto_humidity = 43"
      ],
      "execution_count": null,
      "outputs": []
    },
    {
      "cell_type": "markdown",
      "metadata": {
        "id": "8bmo6IoC8MRG"
      },
      "source": [
        "이제 이러한 변수를 선형 방정식에 대입하여 사과 수확량을 예측할 수 있습니다."
      ]
    },
    {
      "cell_type": "code",
      "metadata": {
        "id": "PC_ZG5ae8MRG",
        "outputId": "dcaab159-51e0-4dbe-9656-49afbd344cc8"
      },
      "source": [
        "kanto_yield_apples = kanto_temp * w1 + kanto_rainfall * w2 + kanto_humidity * w3\n",
        "kanto_yield_apples"
      ],
      "execution_count": null,
      "outputs": [
        {
          "data": {
            "text/plain": [
              "56.8"
            ]
          },
          "execution_count": 3,
          "metadata": {},
          "output_type": "execute_result"
        }
      ]
    },
    {
      "cell_type": "code",
      "metadata": {
        "id": "Gde0bc4z8MRI",
        "outputId": "e5e3838a-1aae-4528-e0b5-8f7e80d78b59"
      },
      "source": [
        "print(\"The expected yield of apples in Kanto region is {} tons per hectare.\".format(kanto_yield_apples))"
      ],
      "execution_count": null,
      "outputs": [
        {
          "name": "stdout",
          "output_type": "stream",
          "text": [
            "The expected yield of apples in Kanto region is 56.8 tons per hectare.\n"
          ]
        }
      ]
    },
    {
      "cell_type": "markdown",
      "metadata": {
        "id": "1aLBxynI8MRI"
      },
      "source": [
        "간토 지역의 예상 사과 수확량은 헥타르당 56.8톤입니다.\n",
        "여러 지역에 대해 위의 계산을 약간 더 쉽게 수행하기 위해 각 지역의 기후 데이터를 벡터, 즉 숫자 목록으로 나타낼 수 있습니다."
      ]
    },
    {
      "cell_type": "code",
      "metadata": {
        "id": "JOwoYCnk8MRJ"
      },
      "source": [
        "kanto = [73, 67, 43]\n",
        "johto = [91, 88, 64]\n",
        "hoenn = [87, 134, 58]\n",
        "sinnoh = [102, 43, 37]\n",
        "unova = [69, 96, 70]"
      ],
      "execution_count": null,
      "outputs": []
    },
    {
      "cell_type": "markdown",
      "metadata": {
        "id": "LLtlF2u08MRJ"
      },
      "source": [
        "각 벡터의 세 숫자는 각각 온도, 강우량 및 습도 데이터를 나타냅니다.\n",
        "\n",
        "공식에 사용된 가중치 집합을 벡터로 나타낼 수도 있습니다."
      ]
    },
    {
      "cell_type": "code",
      "metadata": {
        "id": "E4FCrfOf8MRK"
      },
      "source": [
        "weights = [w1, w2, w3]"
      ],
      "execution_count": null,
      "outputs": []
    },
    {
      "cell_type": "markdown",
      "metadata": {
        "id": "2fa-1TgY8MRK"
      },
      "source": [
        "이제 우리는 기후 데이터와 각각의 가중치가 주어진 사과(또는 다른 작물)의 수확량을 계산하는 함수 작물 수확량을 작성할 수 있습니다."
      ]
    },
    {
      "cell_type": "code",
      "metadata": {
        "id": "heiBT4z38MRK"
      },
      "source": [
        "def crop_yield(region, weights):\n",
        "    result = 0\n",
        "    for x, w in zip(region, weights):\n",
        "        result += x * w\n",
        "    return result"
      ],
      "execution_count": null,
      "outputs": []
    },
    {
      "cell_type": "code",
      "metadata": {
        "id": "I5Vt4DQz8MRK",
        "outputId": "5e57b67b-ae04-4234-91ef-3b13d97d9131"
      },
      "source": [
        "crop_yield(kanto, weights)"
      ],
      "execution_count": null,
      "outputs": [
        {
          "data": {
            "text/plain": [
              "56.8"
            ]
          },
          "execution_count": 8,
          "metadata": {},
          "output_type": "execute_result"
        }
      ]
    },
    {
      "cell_type": "code",
      "metadata": {
        "id": "TkhdTkDA8MRL",
        "outputId": "87ec01c5-a486-4f78-fefb-d1be95b51fbd"
      },
      "source": [
        "crop_yield(johto, weights)"
      ],
      "execution_count": null,
      "outputs": [
        {
          "data": {
            "text/plain": [
              "76.9"
            ]
          },
          "execution_count": 9,
          "metadata": {},
          "output_type": "execute_result"
        }
      ]
    },
    {
      "cell_type": "code",
      "metadata": {
        "id": "a278uj6m8MRL",
        "outputId": "ff95740b-dbbf-48d2-ac84-9d3e6c65e423"
      },
      "source": [
        "crop_yield(unova, weights)"
      ],
      "execution_count": null,
      "outputs": [
        {
          "data": {
            "text/plain": [
              "74.9"
            ]
          },
          "execution_count": 10,
          "metadata": {},
          "output_type": "execute_result"
        }
      ]
    },
    {
      "cell_type": "markdown",
      "metadata": {
        "id": "rpHwDshE8MRL"
      },
      "source": [
        "### Python 목록에서 Numpy 배열로 이동\n",
        "Crop_yield에 의해 수행되는 계산(두 벡터의 요소별 곱셈과 결과의 합을 취함)을 내적이라고도 합니다. 여기에서 내적에 대해 자세히 알아보십시오. https://www.khanacademy.org/math/linear-algebra/vectors-and-spaces/dot-cross-products/v/vector-dot-product-and-vector-length .\n",
        "\n",
        "Numpy 라이브러리는 두 벡터의 내적을 계산하는 내장 함수를 제공합니다. 그러나 먼저 목록을 Numpy 배열로 변환해야 합니다.\n",
        "\n",
        "pip 패키지 관리자를 사용하여 Numpy 라이브러리를 설치해 보겠습니다."
      ]
    },
    {
      "cell_type": "code",
      "metadata": {
        "id": "tNT5AJ4I8MRM"
      },
      "source": [
        "#!pip install numpy --upgrade --quiet"
      ],
      "execution_count": null,
      "outputs": []
    },
    {
      "cell_type": "markdown",
      "metadata": {
        "id": "NILDTBhu8MRM"
      },
      "source": [
        "다음으로 numpy 모듈을 가져오겠습니다. 별칭 np로 numpy를 가져오는 것이 일반적입니다."
      ]
    },
    {
      "cell_type": "code",
      "metadata": {
        "id": "dD1nX4De8MRM"
      },
      "source": [
        "import numpy as np"
      ],
      "execution_count": null,
      "outputs": []
    },
    {
      "cell_type": "markdown",
      "metadata": {
        "id": "pJ7vDVw68MRM"
      },
      "source": [
        "이제 np.array 함수를 사용하여 Numpy 배열을 생성할 수 있습니다."
      ]
    },
    {
      "cell_type": "code",
      "metadata": {
        "id": "qU-CvNrH8MRM"
      },
      "source": [
        "kanto = np.array([73, 67, 43])"
      ],
      "execution_count": null,
      "outputs": []
    },
    {
      "cell_type": "code",
      "metadata": {
        "id": "ULGTXvj78MRN",
        "outputId": "214ff70e-ddb1-4ace-c0e0-07459fba14a2"
      },
      "source": [
        "kanto"
      ],
      "execution_count": null,
      "outputs": [
        {
          "data": {
            "text/plain": [
              "array([73, 67, 43])"
            ]
          },
          "execution_count": 14,
          "metadata": {},
          "output_type": "execute_result"
        }
      ]
    },
    {
      "cell_type": "code",
      "metadata": {
        "id": "oFzlCfGy8MRN"
      },
      "source": [
        "weights = np.array([w1, w2, w3])"
      ],
      "execution_count": null,
      "outputs": []
    },
    {
      "cell_type": "code",
      "metadata": {
        "id": "tgj6LHwE8MRN",
        "outputId": "b00bb38d-50d6-4ee7-ac7b-4a6b5a274c8c"
      },
      "source": [
        "weights"
      ],
      "execution_count": null,
      "outputs": [
        {
          "data": {
            "text/plain": [
              "array([0.3, 0.2, 0.5])"
            ]
          },
          "execution_count": 16,
          "metadata": {},
          "output_type": "execute_result"
        }
      ]
    },
    {
      "cell_type": "markdown",
      "metadata": {
        "id": "dgszMzMf8MRN"
      },
      "source": [
        "Numpy 배열에는 ndarray 유형이 있습니다."
      ]
    },
    {
      "cell_type": "code",
      "metadata": {
        "id": "b0zzrBkR8MRN",
        "outputId": "07864ac7-5a61-4f77-c68a-83405c946d7a"
      },
      "source": [
        "type(kanto)"
      ],
      "execution_count": null,
      "outputs": [
        {
          "data": {
            "text/plain": [
              "numpy.ndarray"
            ]
          },
          "execution_count": 17,
          "metadata": {},
          "output_type": "execute_result"
        }
      ]
    },
    {
      "cell_type": "code",
      "metadata": {
        "id": "64r3AhPb8MRO",
        "outputId": "a647a761-5b07-404d-f969-9e8ddb48f9b8"
      },
      "source": [
        "type(weights)"
      ],
      "execution_count": null,
      "outputs": [
        {
          "data": {
            "text/plain": [
              "numpy.ndarray"
            ]
          },
          "execution_count": 18,
          "metadata": {},
          "output_type": "execute_result"
        }
      ]
    },
    {
      "cell_type": "markdown",
      "metadata": {
        "id": "eS0EL8QI8MRO"
      },
      "source": [
        "목록과 마찬가지로 Numpy 배열은 인덱싱 표기법 []을 지원합니다."
      ]
    },
    {
      "cell_type": "code",
      "metadata": {
        "id": "Zqa_zK6o8MRO",
        "outputId": "00d31ef9-1ae4-424f-a744-8c7d9b268be5"
      },
      "source": [
        "weights[0]"
      ],
      "execution_count": null,
      "outputs": [
        {
          "data": {
            "text/plain": [
              "0.3"
            ]
          },
          "execution_count": 19,
          "metadata": {},
          "output_type": "execute_result"
        }
      ]
    },
    {
      "cell_type": "code",
      "metadata": {
        "id": "ImS1D32_8MRO",
        "outputId": "c9976e53-cd69-4a51-ceec-7534233b186d"
      },
      "source": [
        "kanto[2]"
      ],
      "execution_count": null,
      "outputs": [
        {
          "data": {
            "text/plain": [
              "43"
            ]
          },
          "execution_count": 20,
          "metadata": {},
          "output_type": "execute_result"
        }
      ]
    },
    {
      "cell_type": "markdown",
      "metadata": {
        "id": "GD7D8kOe8MRO"
      },
      "source": [
        "### Numpy 배열에서 작동\n",
        "이제 np.dot 함수를 사용하여 두 벡터의 내적을 계산할 수 있습니다."
      ]
    },
    {
      "cell_type": "code",
      "metadata": {
        "id": "3E-HfphQ8MRP",
        "outputId": "69a37101-42b0-4342-983d-6fc3c6f6090d"
      },
      "source": [
        "np.dot(kanto, weights)"
      ],
      "execution_count": null,
      "outputs": [
        {
          "data": {
            "text/plain": [
              "56.8"
            ]
          },
          "execution_count": 21,
          "metadata": {},
          "output_type": "execute_result"
        }
      ]
    },
    {
      "cell_type": "markdown",
      "metadata": {
        "id": "oTejveFG8MRP"
      },
      "source": [
        "Numpy 배열이 지원하는 저수준 연산으로 동일한 결과를 얻을 수 있습니다. 요소별 곱셈을 수행하고 결과 숫자의 합계를 계산합니다."
      ]
    },
    {
      "cell_type": "code",
      "metadata": {
        "id": "FEHY7fu08MRP",
        "outputId": "add41ff3-4c3d-46ff-c738-451cec232959"
      },
      "source": [
        "(kanto * weights).sum()"
      ],
      "execution_count": null,
      "outputs": [
        {
          "data": {
            "text/plain": [
              "56.8"
            ]
          },
          "execution_count": 22,
          "metadata": {},
          "output_type": "execute_result"
        }
      ]
    },
    {
      "cell_type": "markdown",
      "metadata": {
        "id": "3PMCQ40A8MRP"
      },
      "source": [
        "** 연산자는 크기가 같은 두 배열의 요소별 곱셈을 수행합니다. sum 메서드는 배열에 있는 숫자의 합을 계산합니다."
      ]
    },
    {
      "cell_type": "code",
      "metadata": {
        "id": "Tzoetnl08MRP"
      },
      "source": [
        "arr1 = np.array([1, 2, 3])\n",
        "arr2 = np.array([4, 5, 6])"
      ],
      "execution_count": null,
      "outputs": []
    },
    {
      "cell_type": "code",
      "metadata": {
        "id": "AT3bKvgU8MRQ",
        "outputId": "cf74b69b-9068-4352-e426-0cef4f1f6ea3"
      },
      "source": [
        "arr1 * arr2"
      ],
      "execution_count": null,
      "outputs": [
        {
          "data": {
            "text/plain": [
              "array([ 4, 10, 18])"
            ]
          },
          "execution_count": 24,
          "metadata": {},
          "output_type": "execute_result"
        }
      ]
    },
    {
      "cell_type": "code",
      "metadata": {
        "id": "zsUgxcQ28MRQ",
        "outputId": "2de1a9c8-644f-4e0b-899b-fd41028e2280"
      },
      "source": [
        "arr2.sum()"
      ],
      "execution_count": null,
      "outputs": [
        {
          "data": {
            "text/plain": [
              "15"
            ]
          },
          "execution_count": 25,
          "metadata": {},
          "output_type": "execute_result"
        }
      ]
    },
    {
      "cell_type": "markdown",
      "metadata": {
        "id": "g--4mQbNstww"
      },
      "source": [
        "## 김소현 멘토 질문 : Numpy와 선형대수"
      ]
    },
    {
      "cell_type": "markdown",
      "metadata": {
        "id": "vVBkNJEr8MRQ"
      },
      "source": [
        "### Numpy 배열 사용의 이점¶\n",
        "Numpy 배열은 숫자 데이터 작업을 위해 Python 목록에 비해 다음과 같은 이점을 제공합니다.\n",
        "\n",
        "사용 용이성: crop_yield와 같은 사용자 정의 함수 및 루프를 사용하는 대신 (kanto * weights).sum()과 같은 작고 간결하며 직관적인 수학 표현식을 작성할 수 있습니다.\n",
        "성능: Numpy 연산 및 함수는 C++에서 내부적으로 구현되어 런타임에 해석되는 Python 문 및 루프를 사용하는 것보다 훨씬 빠릅니다.\n",
        "다음은 각각 백만 개의 요소가 있는 두 벡터에서 Python 루프와 Numpy 배열을 사용하여 수행된 내적을 비교한 것입니다."
      ]
    },
    {
      "cell_type": "code",
      "metadata": {
        "id": "O2DQ8oCo8MRQ"
      },
      "source": [
        "# Python lists\n",
        "arr1 = list(range(1000000))\n",
        "arr2 = list(range(1000000, 2000000))\n",
        "\n",
        "# Numpy arrays\n",
        "arr1_np = np.array(arr1)\n",
        "arr2_np = np.array(arr2)"
      ],
      "execution_count": null,
      "outputs": []
    },
    {
      "cell_type": "code",
      "metadata": {
        "id": "gm1_HoMp8MRQ",
        "outputId": "dde84368-0177-42dd-ee8f-a2342ea87686"
      },
      "source": [
        "%%time\n",
        "result = 0\n",
        "for x1, x2 in zip(arr1, arr2):\n",
        "    result += x1*x2\n",
        "result"
      ],
      "execution_count": null,
      "outputs": [
        {
          "name": "stdout",
          "output_type": "stream",
          "text": [
            "CPU times: user 151 ms, sys: 1.35 ms, total: 153 ms\n",
            "Wall time: 152 ms\n"
          ]
        },
        {
          "data": {
            "text/plain": [
              "833332333333500000"
            ]
          },
          "execution_count": 27,
          "metadata": {},
          "output_type": "execute_result"
        }
      ]
    },
    {
      "cell_type": "code",
      "metadata": {
        "id": "THbDf0DQ8MRQ",
        "outputId": "231fe2d7-278f-4b60-c13d-35c403ad1a7b"
      },
      "source": [
        "%%time\n",
        "np.dot(arr1_np, arr2_np)"
      ],
      "execution_count": null,
      "outputs": [
        {
          "name": "stdout",
          "output_type": "stream",
          "text": [
            "CPU times: user 1.96 ms, sys: 751 µs, total: 2.71 ms\n",
            "Wall time: 1.6 ms\n"
          ]
        },
        {
          "data": {
            "text/plain": [
              "833332333333500000"
            ]
          },
          "execution_count": 28,
          "metadata": {},
          "output_type": "execute_result"
        }
      ]
    },
    {
      "cell_type": "markdown",
      "metadata": {
        "id": "mkwpNsIS8MRR"
      },
      "source": [
        "보시다시피 np.dot를 사용하는 것은 for 루프를 사용하는 것보다 100배 빠릅니다. <br> 따라서 Numpy는 수만 또는 수백만 개의 데이터 포인트가 있는 매우 큰 데이터 세트로 작업할 때 특히 유용합니다.\n",
        "\n",
        "계속하기 전에 작업을 저장합시다."
      ]
    },
    {
      "cell_type": "markdown",
      "metadata": {
        "id": "pBFR9HWw8MRR"
      },
      "source": [
        "### 다차원 Numpy 배열\n",
        "이제 한 단계 더 나아가 단일 2차원 Numpy 배열을 사용하여 모든 지역의 기후 데이터를 나타낼 수 있습니다."
      ]
    },
    {
      "cell_type": "code",
      "metadata": {
        "id": "BIMHYp4D8MRR"
      },
      "source": [
        "climate_data = np.array([[73, 67, 43],\n",
        "                         [91, 88, 64],\n",
        "                         [87, 134, 58],\n",
        "                         [102, 43, 37],\n",
        "                         [69, 96, 70]])"
      ],
      "execution_count": null,
      "outputs": []
    },
    {
      "cell_type": "code",
      "metadata": {
        "id": "EhI4AVSd8MRR",
        "outputId": "cd2780e2-2ca7-43ea-c3df-ec98730e9776"
      },
      "source": [
        "climate_data"
      ],
      "execution_count": null,
      "outputs": [
        {
          "data": {
            "text/plain": [
              "array([[ 73,  67,  43],\n",
              "       [ 91,  88,  64],\n",
              "       [ 87, 134,  58],\n",
              "       [102,  43,  37],\n",
              "       [ 69,  96,  70]])"
            ]
          },
          "execution_count": 32,
          "metadata": {},
          "output_type": "execute_result"
        }
      ]
    },
    {
      "cell_type": "markdown",
      "metadata": {
        "id": "dEIAXerY8MRR"
      },
      "source": [
        "고등학교에서 선형 대수학 수업을 들었다면 위의 2차원 배열을 5행 3열의 행렬로 인식할 수 있습니다. 각 행은 한 지역을 나타내고 열은 각각 기온, 강우량, 습도를 나타냅니다.\n",
        "\n",
        "Numpy 배열은 여러 차원과 각 차원을 따라 다른 길이를 가질 수 있습니다. 배열의 .shape 속성을 사용하여 각 차원의 길이를 검사할 수 있습니다.\n",
        "<img src=\"https://fgnt.github.io/python_crashkurs_doc/_images/numpy_array_t.png\" width=\"420\">"
      ]
    },
    {
      "cell_type": "code",
      "metadata": {
        "id": "O7qS54FN8MRR",
        "outputId": "260dfb66-b493-437f-82cc-5b80ac531793"
      },
      "source": [
        "# 2D array (matrix)\n",
        "climate_data.shape"
      ],
      "execution_count": null,
      "outputs": [
        {
          "data": {
            "text/plain": [
              "(5, 3)"
            ]
          },
          "execution_count": 33,
          "metadata": {},
          "output_type": "execute_result"
        }
      ]
    },
    {
      "cell_type": "code",
      "metadata": {
        "id": "mI5fSVtO8MRS",
        "outputId": "0b2f7bbd-98bb-41f1-cc23-c63caa61ee46"
      },
      "source": [
        "weights"
      ],
      "execution_count": null,
      "outputs": [
        {
          "data": {
            "text/plain": [
              "array([0.3, 0.2, 0.5])"
            ]
          },
          "execution_count": 34,
          "metadata": {},
          "output_type": "execute_result"
        }
      ]
    },
    {
      "cell_type": "code",
      "metadata": {
        "id": "sSD6YJ8t8MRS",
        "outputId": "c497fd50-d808-401d-bec8-5117d77eb3f0"
      },
      "source": [
        "# 1D array (vector)\n",
        "weights.shape"
      ],
      "execution_count": null,
      "outputs": [
        {
          "data": {
            "text/plain": [
              "(3,)"
            ]
          },
          "execution_count": 35,
          "metadata": {},
          "output_type": "execute_result"
        }
      ]
    },
    {
      "cell_type": "code",
      "metadata": {
        "id": "rNf5WLk38MRS"
      },
      "source": [
        "# 3D array \n",
        "arr3 = np.array([\n",
        "    [[11, 12, 13], \n",
        "     [13, 14, 15]], \n",
        "    [[15, 16, 17], \n",
        "     [17, 18, 19.5]]])"
      ],
      "execution_count": null,
      "outputs": []
    },
    {
      "cell_type": "code",
      "metadata": {
        "id": "c1rdM6eZ8MRS",
        "outputId": "65554c14-97b7-4d2b-d9c0-1e3eb5d6579c"
      },
      "source": [
        "arr3.shape"
      ],
      "execution_count": null,
      "outputs": [
        {
          "data": {
            "text/plain": [
              "(2, 2, 3)"
            ]
          },
          "execution_count": 37,
          "metadata": {},
          "output_type": "execute_result"
        }
      ]
    },
    {
      "cell_type": "markdown",
      "metadata": {
        "id": "vreFFe8e8MRS"
      },
      "source": [
        "numpy 배열의 모든 요소는 동일한 데이터 유형을 갖습니다. .dtype 속성을 사용하여 배열의 데이터 유형을 확인할 수 있습니다."
      ]
    },
    {
      "cell_type": "code",
      "metadata": {
        "id": "B5S80hcZ8MRS",
        "outputId": "84501b29-4dee-4be3-840c-1d7079149d5f"
      },
      "source": [
        "weights.dtype"
      ],
      "execution_count": null,
      "outputs": [
        {
          "data": {
            "text/plain": [
              "dtype('float64')"
            ]
          },
          "execution_count": 38,
          "metadata": {},
          "output_type": "execute_result"
        }
      ]
    },
    {
      "cell_type": "code",
      "metadata": {
        "id": "f7pvxiRL8MRT",
        "outputId": "b689949b-6c30-4b5d-954b-818e2e07a474"
      },
      "source": [
        "climate_data.dtype"
      ],
      "execution_count": null,
      "outputs": [
        {
          "data": {
            "text/plain": [
              "dtype('int64')"
            ]
          },
          "execution_count": 39,
          "metadata": {},
          "output_type": "execute_result"
        }
      ]
    },
    {
      "cell_type": "markdown",
      "metadata": {
        "id": "k-k8GWUL8MRT"
      },
      "source": [
        "배열에 단일 부동 소수점 숫자라도 포함되어 있으면 다른 모든 요소도 부동 소수점으로 변환됩니다."
      ]
    },
    {
      "cell_type": "code",
      "metadata": {
        "id": "Vag1cQPY8MRT",
        "outputId": "02da1979-dcd6-46f6-f50d-862c112425a4"
      },
      "source": [
        "arr3.dtype"
      ],
      "execution_count": null,
      "outputs": [
        {
          "data": {
            "text/plain": [
              "dtype('float64')"
            ]
          },
          "execution_count": 40,
          "metadata": {},
          "output_type": "execute_result"
        }
      ]
    },
    {
      "cell_type": "markdown",
      "metadata": {
        "id": "_tK94TY-8MRT"
      },
      "source": [
        "이제 `climate_data`(5x3 행렬)와 `weights`(길이 3의 벡터) 간의 단일 행렬 곱을 사용하여 모든 지역에서 예상되는 사과 수확량을 계산할 수 있습니다. <br>\n",
        "시각적으로 보이는 것은 다음과 같습니다.\n",
        "<img src=\"https://i.imgur.com/LJ2WKSI.png\" width=\"240\">\n",
        "\n",
        "이 재생 목록의 처음 3-4개 비디오를 시청하여 행렬 및 행렬 곱셈에 대해 배울 수 있습니다. https://www.youtube.com/watch?v=xyAuNHPsq-g&list=PLFD0EB975BA0CC1E0&index=1 .\n",
        "\n",
        "행렬 곱셈을 수행하기 위해 `np.matmul` 함수 또는 `@` 연산자를 사용할 수 있습니다."
      ]
    },
    {
      "cell_type": "code",
      "metadata": {
        "id": "p4cW2SUC8MRT",
        "outputId": "783e5193-c521-4746-c54a-80908c50194a"
      },
      "source": [
        "np.matmul(climate_data, weights)"
      ],
      "execution_count": null,
      "outputs": [
        {
          "data": {
            "text/plain": [
              "array([56.8, 76.9, 81.9, 57.7, 74.9])"
            ]
          },
          "execution_count": 41,
          "metadata": {},
          "output_type": "execute_result"
        }
      ]
    },
    {
      "cell_type": "code",
      "metadata": {
        "id": "H9Fb3gp98MRT",
        "outputId": "9cfbfaa1-e467-4169-b2c1-2b93f4f152cf"
      },
      "source": [
        "climate_data @ weights"
      ],
      "execution_count": null,
      "outputs": [
        {
          "data": {
            "text/plain": [
              "array([56.8, 76.9, 81.9, 57.7, 74.9])"
            ]
          },
          "execution_count": 42,
          "metadata": {},
          "output_type": "execute_result"
        }
      ]
    },
    {
      "cell_type": "markdown",
      "metadata": {
        "id": "Bk-lGiEs8MRT"
      },
      "source": [
        "### CSV 데이터 파일 작업\n",
        "Numpy는 또한 파일에서 읽고 쓰는 도우미 기능을 제공합니다. 다음 형식으로 10,000개의 기후 측정값(온도, 강우량 및 습도)이 포함된 Climate.txt 파일을 다운로드해 보겠습니다.\n",
        "```\n",
        "온도, 강우량, 습도\n",
        "25.00,76.00,99.00\n",
        "39.00,65.00,70.00\n",
        "59.00,45.00,77.00\n",
        "84.00,63.00,38.00\n",
        "66.00,50.00,52.00\n",
        "41.00,94.00,77.00\n",
        "91.00,57.00,96.00\n",
        "49.00,96.00,99.00\n",
        "67.00,20.00,28.00\n",
        "...\n",
        "```\n",
        "이러한 데이터 저장 형식을 쉼표로 구분된 값 또는 CSV라고 합니다.\n",
        "\n",
        ">CSV: 쉼표로 구분된 값(CSV) 파일은 쉼표를 사용하여 값을 구분하는 구분된 텍스트 파일입니다. 파일의 각 행은 데이터 레코드입니다. 각 레코드는 쉼표로 구분된 하나 이상의 필드로 구성됩니다. CSV 파일은 일반적으로 표 형식 데이터(숫자 및 텍스트)를 일반 텍스트로 저장하며, 이 경우 각 행에는 동일한 수의 필드가 있습니다. (위키피디아)\n",
        "\n",
        "이 파일을 numpy 배열로 읽으려면 genfromtxt 함수를 사용할 수 있습니다."
      ]
    },
    {
      "cell_type": "code",
      "metadata": {
        "id": "aTgUknAd8MRU"
      },
      "source": [
        "\n",
        "climate_data = np.genfromtxt(root_path + '/climate.txt', delimiter=',', skip_header=1)"
      ],
      "execution_count": null,
      "outputs": []
    },
    {
      "cell_type": "code",
      "metadata": {
        "id": "mhYemFNO8MRU",
        "outputId": "aa32763e-8ba7-42cd-b4ec-96c3211f8ac2"
      },
      "source": [
        "climate_data"
      ],
      "execution_count": null,
      "outputs": [
        {
          "data": {
            "text/plain": [
              "array([[25., 76., 99.],\n",
              "       [39., 65., 70.],\n",
              "       [59., 45., 77.],\n",
              "       ...,\n",
              "       [99., 62., 58.],\n",
              "       [70., 71., 91.],\n",
              "       [92., 39., 76.]])"
            ]
          },
          "execution_count": 29,
          "metadata": {},
          "output_type": "execute_result"
        }
      ]
    },
    {
      "cell_type": "code",
      "metadata": {
        "id": "ZD2EARzq8MRU",
        "outputId": "3d778697-8088-4467-bf54-43ec4c8e4a2e"
      },
      "source": [
        "climate_data.shape"
      ],
      "execution_count": null,
      "outputs": [
        {
          "data": {
            "text/plain": [
              "(10000, 3)"
            ]
          },
          "execution_count": 30,
          "metadata": {},
          "output_type": "execute_result"
        }
      ]
    },
    {
      "cell_type": "markdown",
      "metadata": {
        "id": "bKj-Hoy08MRU"
      },
      "source": [
        "이제 @ 연산자를 사용하여 행렬 곱을 수행하여 주어진 가중치 세트를 사용하여 전체 데이터 세트에 대한 사과 수확량을 예측할 수 있습니다."
      ]
    },
    {
      "cell_type": "code",
      "metadata": {
        "id": "MxZ79eDY8MRU"
      },
      "source": [
        "weights = np.array([0.3, 0.2, 0.5])"
      ],
      "execution_count": null,
      "outputs": []
    },
    {
      "cell_type": "code",
      "metadata": {
        "id": "OAWdVoBP8MRU"
      },
      "source": [
        "yields = climate_data @ weights"
      ],
      "execution_count": null,
      "outputs": []
    },
    {
      "cell_type": "code",
      "metadata": {
        "id": "9PmGCgUp8MRU",
        "outputId": "9c10a188-ffc1-4ead-c973-33ba81fc9a52"
      },
      "source": [
        "yields"
      ],
      "execution_count": null,
      "outputs": [
        {
          "data": {
            "text/plain": [
              "array([72.2, 59.7, 65.2, ..., 71.1, 80.7, 73.4])"
            ]
          },
          "execution_count": 49,
          "metadata": {},
          "output_type": "execute_result"
        }
      ]
    },
    {
      "cell_type": "code",
      "metadata": {
        "id": "9wUycMaT8MRV",
        "outputId": "b57146ee-1948-456f-c568-6b22ea7180d8"
      },
      "source": [
        "yields.shape"
      ],
      "execution_count": null,
      "outputs": [
        {
          "data": {
            "text/plain": [
              "(10000,)"
            ]
          },
          "execution_count": 50,
          "metadata": {},
          "output_type": "execute_result"
        }
      ]
    },
    {
      "cell_type": "markdown",
      "metadata": {
        "id": "WAJdcLYa8MRV"
      },
      "source": [
        "np.concatenate 함수를 사용하여 네 번째 열로 climate_data에 수확량을 추가해 보겠습니다."
      ]
    },
    {
      "cell_type": "code",
      "metadata": {
        "id": "bJ6bFA688MRV"
      },
      "source": [
        "climate_results = np.concatenate((climate_data, yields.reshape(10000, 1)), axis=1)"
      ],
      "execution_count": null,
      "outputs": []
    },
    {
      "cell_type": "code",
      "metadata": {
        "id": "Q5lC-acM8MRV",
        "outputId": "38e9e22a-d7bf-40ce-a0ad-ae9f6402a7d7"
      },
      "source": [
        "climate_results"
      ],
      "execution_count": null,
      "outputs": [
        {
          "data": {
            "text/plain": [
              "array([[25. , 76. , 99. , 72.2],\n",
              "       [39. , 65. , 70. , 59.7],\n",
              "       [59. , 45. , 77. , 65.2],\n",
              "       ...,\n",
              "       [99. , 62. , 58. , 71.1],\n",
              "       [70. , 71. , 91. , 80.7],\n",
              "       [92. , 39. , 76. , 73.4]])"
            ]
          },
          "execution_count": 52,
          "metadata": {},
          "output_type": "execute_result"
        }
      ]
    },
    {
      "cell_type": "markdown",
      "metadata": {
        "id": "_74DF_Zi8MRV"
      },
      "source": [
        "여기에 몇 가지 미묘함이 있습니다.\n",
        "\n",
        "새 열을 추가하고 싶기 때문에 axis=1 인수를 np.concatenate에 전달합니다. axis 인수는 연결의 차원을 지정합니다.\n",
        "\n",
        "배열은 연결에 사용되는 차원을 제외하고 동일한 수의 차원과 동일한 길이를 가져야 합니다. np.reshape 함수를 사용하여 수확량의 모양을 (10000,)에서 (10000,1)로 변경합니다.\n",
        "\n",
        "다음은 axis=1을 따라 np.concatenate에 대한 시각적 설명입니다(axis=0의 결과를 추측할 수 있습니까?):\n",
        "<br>\n",
        "<img src=\"https://www.w3resource.com/w3r_images/python-numpy-image-exercise-58.png\" width=\"300\">\n",
        "<br>\n",
        "Numpy 함수가 하는 일을 이해하는 가장 좋은 방법은 실험하고 문서를 읽고 인수 및 반환 값에 대해 배우는 것입니다. \n",
        "\n",
        "아래 셀을 사용하여 np.concatenate 및 np.reshape를 실험합니다."
      ]
    },
    {
      "cell_type": "code",
      "metadata": {
        "id": "bO7YXlRP8MRV"
      },
      "source": [
        ""
      ],
      "execution_count": null,
      "outputs": []
    },
    {
      "cell_type": "code",
      "metadata": {
        "id": "m67_G-zJ8MRV"
      },
      "source": [
        ""
      ],
      "execution_count": null,
      "outputs": []
    },
    {
      "cell_type": "code",
      "metadata": {
        "id": "MkM2y0058MRV"
      },
      "source": [
        ""
      ],
      "execution_count": null,
      "outputs": []
    },
    {
      "cell_type": "markdown",
      "metadata": {
        "id": "QtlCNarV8MRV"
      },
      "source": [
        "위 계산의 최종 결과를 np.savetxt 함수를 사용하여 파일에 다시 작성해 보겠습니다."
      ]
    },
    {
      "cell_type": "code",
      "metadata": {
        "id": "TyFGqFWU8MRW",
        "outputId": "c964d07d-b5a1-472b-ea3e-b776bbf6d447"
      },
      "source": [
        "climate_results"
      ],
      "execution_count": null,
      "outputs": [
        {
          "data": {
            "text/plain": [
              "array([[25. , 76. , 99. , 72.2],\n",
              "       [39. , 65. , 70. , 59.7],\n",
              "       [59. , 45. , 77. , 65.2],\n",
              "       ...,\n",
              "       [99. , 62. , 58. , 71.1],\n",
              "       [70. , 71. , 91. , 80.7],\n",
              "       [92. , 39. , 76. , 73.4]])"
            ]
          },
          "execution_count": 53,
          "metadata": {},
          "output_type": "execute_result"
        }
      ]
    },
    {
      "cell_type": "code",
      "metadata": {
        "id": "THecpJ_58MRW"
      },
      "source": [
        "np.savetxt(root_path+'/climate_results.txt', \n",
        "           climate_results, \n",
        "           fmt='%.2f', \n",
        "           delimiter=',',\n",
        "           header='temperature,rainfall,humidity,yield_apples', \n",
        "           comments='')"
      ],
      "execution_count": null,
      "outputs": []
    },
    {
      "cell_type": "markdown",
      "metadata": {
        "id": "Dqqr17lE8MRW"
      },
      "source": [
        "결과는 CSV 형식으로 Climate_results.txt 파일에 다시 기록됩니다.\n",
        "```\n",
        "온도,강우량,습도,yield_apples\n",
        "25.00,76.00,99.00,72.20\n",
        "39.00,65.00,70.00,59.70\n",
        "59.00,45.00,77.00,65.20\n",
        "84.00,63.00,38.00,56.80\n",
        "...\n",
        "```"
      ]
    },
    {
      "cell_type": "markdown",
      "metadata": {
        "id": "lMs3DyOV8MRW"
      },
      "source": [
        "Numpy는 배열에서 작업을 수행하기 위한 수백 가지 기능을 제공합니다. 다음은 일반적으로 사용되는 몇 가지 기능입니다.\n",
        "\n",
        "수학: np.sum, np.exp, np.round, 산술 연산자\n",
        "배열 조작: np.reshape, np.stack, np.concatenate, np.split\n",
        "선형 대수학: np.matmul, np.dot, np.transpose, np.eigvals\n",
        "통계: np.mean, np.median, np.std, np.max\n",
        ">필요한 기능을 찾는 방법은 무엇입니까? 특정 작업 또는 사용 사례에 적합한 기능을 찾는 가장 쉬운 방법은 웹 검색을 수행하는 것입니다. 예를 들어 \"numpy 배열을 결합하는 방법\"을 검색하면 배열 연결에 대한 이 자습서로 이동합니다.\n",
        "\n",
        "여기에서 배열 함수의 전체 목록을 찾을 수 있습니다: https://numpy.org/doc/stable/reference/routines.html"
      ]
    },
    {
      "cell_type": "markdown",
      "metadata": {
        "id": "soIK6KeU8MRW"
      },
      "source": [
        "### 산술 연산,  broadcasting 및 비교\n",
        "Numpy 배열은 +, -, * 등과 같은 산술 연산자를 지원합니다. 단일 숫자(스칼라라고도 함) 또는 같은 모양의 다른 배열로 산술 연산을 수행할 수 있습니다. 연산자를 사용하면 다차원 배열로 수학 표현식을 쉽게 작성할 수 있습니다."
      ]
    },
    {
      "cell_type": "code",
      "metadata": {
        "id": "v8tJGGiZ8MRW"
      },
      "source": [
        "arr2 = np.array([[1, 2, 3, 4], \n",
        "                 [5, 6, 7, 8], \n",
        "                 [9, 1, 2, 3]])"
      ],
      "execution_count": null,
      "outputs": []
    },
    {
      "cell_type": "code",
      "metadata": {
        "id": "kYCUZp968MRW"
      },
      "source": [
        "arr3 = np.array([[11, 12, 13, 14], \n",
        "                 [15, 16, 17, 18], \n",
        "                 [19, 11, 12, 13]])"
      ],
      "execution_count": null,
      "outputs": []
    },
    {
      "cell_type": "code",
      "metadata": {
        "id": "RrN-ykpd8MRW",
        "outputId": "4abe271b-0ef7-4900-ce64-61ab66cf5e1a"
      },
      "source": [
        "# Adding a scalar\n",
        "arr2 + 3"
      ],
      "execution_count": null,
      "outputs": [
        {
          "data": {
            "text/plain": [
              "array([[ 4,  5,  6,  7],\n",
              "       [ 8,  9, 10, 11],\n",
              "       [12,  4,  5,  6]])"
            ]
          },
          "execution_count": 60,
          "metadata": {},
          "output_type": "execute_result"
        }
      ]
    },
    {
      "cell_type": "code",
      "metadata": {
        "id": "okkitKs78MRX",
        "outputId": "712d9cbd-e774-4ae3-f46d-1885564bc856"
      },
      "source": [
        "# Element-wise subtraction\n",
        "arr3 - arr2"
      ],
      "execution_count": null,
      "outputs": [
        {
          "data": {
            "text/plain": [
              "array([[10, 10, 10, 10],\n",
              "       [10, 10, 10, 10],\n",
              "       [10, 10, 10, 10]])"
            ]
          },
          "execution_count": 61,
          "metadata": {},
          "output_type": "execute_result"
        }
      ]
    },
    {
      "cell_type": "code",
      "metadata": {
        "id": "89s_eRqT8MRX",
        "outputId": "b1ad7477-d096-4072-ee3a-7dea18b5d0ba"
      },
      "source": [
        "# Division by scalar\n",
        "arr2 / 2"
      ],
      "execution_count": null,
      "outputs": [
        {
          "data": {
            "text/plain": [
              "array([[0.5, 1. , 1.5, 2. ],\n",
              "       [2.5, 3. , 3.5, 4. ],\n",
              "       [4.5, 0.5, 1. , 1.5]])"
            ]
          },
          "execution_count": 62,
          "metadata": {},
          "output_type": "execute_result"
        }
      ]
    },
    {
      "cell_type": "code",
      "metadata": {
        "id": "Pyb0Eko58MRX",
        "outputId": "df91889b-6112-4e81-e6a9-85b67b222a70"
      },
      "source": [
        "# Element-wise multiplication\n",
        "arr2 * arr3"
      ],
      "execution_count": null,
      "outputs": [
        {
          "data": {
            "text/plain": [
              "array([[ 11,  24,  39,  56],\n",
              "       [ 75,  96, 119, 144],\n",
              "       [171,  11,  24,  39]])"
            ]
          },
          "execution_count": 63,
          "metadata": {},
          "output_type": "execute_result"
        }
      ]
    },
    {
      "cell_type": "code",
      "metadata": {
        "id": "829Kmdqn8MRX",
        "outputId": "4c5af74b-fda8-4ef2-f427-05be73656310"
      },
      "source": [
        "# Modulus with scalar\n",
        "arr2 % 4"
      ],
      "execution_count": null,
      "outputs": [
        {
          "data": {
            "text/plain": [
              "array([[1, 2, 3, 0],\n",
              "       [1, 2, 3, 0],\n",
              "       [1, 1, 2, 3]])"
            ]
          },
          "execution_count": 64,
          "metadata": {},
          "output_type": "execute_result"
        }
      ]
    },
    {
      "cell_type": "markdown",
      "metadata": {
        "id": "ISWbN9A-8MRX"
      },
      "source": [
        "### 어레이 브로드캐스팅\n",
        "Numpy 배열은 또한 브로드캐스팅을 지원하여 차원 수는 다르지만 모양이 호환되는 두 배열 간의 산술 연산을 허용합니다. 어떻게 작동하는지 보기 위해 예제를 살펴보겠습니다."
      ]
    },
    {
      "cell_type": "code",
      "metadata": {
        "id": "tInBIkuw8MRX"
      },
      "source": [
        "arr2 = np.array([[1, 2, 3, 4], \n",
        "                 [5, 6, 7, 8], \n",
        "                 [9, 1, 2, 3]])"
      ],
      "execution_count": null,
      "outputs": []
    },
    {
      "cell_type": "code",
      "metadata": {
        "id": "PxsJwr4o8MRX",
        "outputId": "c58bcbf4-5d2b-473e-e193-04cf8b9537b1"
      },
      "source": [
        "arr2.shape"
      ],
      "execution_count": null,
      "outputs": [
        {
          "data": {
            "text/plain": [
              "(3, 4)"
            ]
          },
          "execution_count": 66,
          "metadata": {},
          "output_type": "execute_result"
        }
      ]
    },
    {
      "cell_type": "code",
      "metadata": {
        "id": "Kk1Zn8rI8MRX"
      },
      "source": [
        "arr4 = np.array([4, 5, 6, 7])"
      ],
      "execution_count": null,
      "outputs": []
    },
    {
      "cell_type": "code",
      "metadata": {
        "id": "Jcl4aZNs8MRY",
        "outputId": "602870bd-84b5-4566-bb09-7636cd6bc501"
      },
      "source": [
        "arr4.shape"
      ],
      "execution_count": null,
      "outputs": [
        {
          "data": {
            "text/plain": [
              "(4,)"
            ]
          },
          "execution_count": 68,
          "metadata": {},
          "output_type": "execute_result"
        }
      ]
    },
    {
      "cell_type": "code",
      "metadata": {
        "id": "AjO2Sgll8MRY",
        "outputId": "4955546e-02bf-4762-b1ba-5364941371b5"
      },
      "source": [
        "arr2 + arr4"
      ],
      "execution_count": null,
      "outputs": [
        {
          "data": {
            "text/plain": [
              "array([[ 5,  7,  9, 11],\n",
              "       [ 9, 11, 13, 15],\n",
              "       [13,  6,  8, 10]])"
            ]
          },
          "execution_count": 69,
          "metadata": {},
          "output_type": "execute_result"
        }
      ]
    },
    {
      "cell_type": "markdown",
      "metadata": {
        "id": "4NJVS8ej8MRY"
      },
      "source": [
        "arr2 + arr4 표현식이 평가될 때 arr2의 모양(3, 4)과 일치하도록 arr4(모양 (4,)를 가짐)가 세 번 복제됩니다. Numpy는 실제로 더 작은 차원 배열의 3개 사본을 생성하지 않고 복제를 수행하므로 성능이 향상되고 더 적은 메모리를 사용합니다.\n",
        "<br>\n",
        "<img src=\"https://jakevdp.github.io/PythonDataScienceHandbook/figures/02.05-broadcasting.png\" width=\"360\">\n",
        "<br>\n",
        "브로드캐스팅은 어레이 중 하나가 다른 어레이의 모양과 일치하도록 복제될 수 있는 경우에만 작동합니다."
      ]
    },
    {
      "cell_type": "code",
      "metadata": {
        "id": "3vPyC4Ii8MRY"
      },
      "source": [
        "arr5 = np.array([7, 8])"
      ],
      "execution_count": null,
      "outputs": []
    },
    {
      "cell_type": "code",
      "metadata": {
        "id": "jwIRNNAa8MRY",
        "outputId": "79aaf4cd-1dea-4332-bb9c-7a1ba99d1a96"
      },
      "source": [
        "arr5.shape"
      ],
      "execution_count": null,
      "outputs": [
        {
          "data": {
            "text/plain": [
              "(2,)"
            ]
          },
          "execution_count": 71,
          "metadata": {},
          "output_type": "execute_result"
        }
      ]
    },
    {
      "cell_type": "code",
      "metadata": {
        "id": "kuSpzQqq8MRY",
        "outputId": "6183bf7b-9df6-4747-bcf9-5122bf38c2ca"
      },
      "source": [
        "arr2 + arr5"
      ],
      "execution_count": null,
      "outputs": [
        {
          "ename": "ValueError",
          "evalue": "operands could not be broadcast together with shapes (3,4) (2,) ",
          "output_type": "error",
          "traceback": [
            "\u001b[0;31m---------------------------------------------------------------------------\u001b[0m",
            "\u001b[0;31mValueError\u001b[0m                                Traceback (most recent call last)",
            "\u001b[0;32m<ipython-input-72-c22e92053c39>\u001b[0m in \u001b[0;36m<module>\u001b[0;34m\u001b[0m\n\u001b[0;32m----> 1\u001b[0;31m \u001b[0marr2\u001b[0m \u001b[0;34m+\u001b[0m \u001b[0marr5\u001b[0m\u001b[0;34m\u001b[0m\u001b[0;34m\u001b[0m\u001b[0m\n\u001b[0m",
            "\u001b[0;31mValueError\u001b[0m: operands could not be broadcast together with shapes (3,4) (2,) "
          ]
        }
      ]
    },
    {
      "cell_type": "markdown",
      "metadata": {
        "id": "3Vwfc3lv8MRZ"
      },
      "source": [
        "위의 예에서 rr5가 3번 복제되어도 arr2의 모양과 일치하지 않습니다. 따라서 rr2 + rr5는 성공적으로 평가될 수 없습니다. 여기에서 브로드캐스트에 대해 자세히 알아보세요. https://numpy.org/doc/stable/user/basics.broadcasting.html ."
      ]
    },
    {
      "cell_type": "markdown",
      "metadata": {
        "id": "azDPoMGP8MRZ"
      },
      "source": [
        "### 어레이 비교\n",
        "Numpy 배열은 ==, !=, > 등과 같은 비교 연산도 지원합니다. 결과는 부울 배열입니다."
      ]
    },
    {
      "cell_type": "code",
      "metadata": {
        "id": "ft_4vEgg8MRZ"
      },
      "source": [
        "arr1 = np.array([[1, 2, 3], [3, 4, 5]])\n",
        "arr2 = np.array([[2, 2, 3], [1, 2, 5]])"
      ],
      "execution_count": null,
      "outputs": []
    },
    {
      "cell_type": "code",
      "metadata": {
        "id": "Cxjew6d18MRZ",
        "outputId": "e4879b32-dff9-4f7b-c566-12f77a994049"
      },
      "source": [
        "arr1 == arr2"
      ],
      "execution_count": null,
      "outputs": [
        {
          "data": {
            "text/plain": [
              "array([[False,  True,  True],\n",
              "       [False, False,  True]])"
            ]
          },
          "execution_count": 74,
          "metadata": {},
          "output_type": "execute_result"
        }
      ]
    },
    {
      "cell_type": "code",
      "metadata": {
        "id": "7VnApFwa8MRZ",
        "outputId": "a5d3c641-dece-4147-eb89-8aa03b46709f"
      },
      "source": [
        "arr1 != arr2"
      ],
      "execution_count": null,
      "outputs": [
        {
          "data": {
            "text/plain": [
              "array([[ True, False, False],\n",
              "       [ True,  True, False]])"
            ]
          },
          "execution_count": 75,
          "metadata": {},
          "output_type": "execute_result"
        }
      ]
    },
    {
      "cell_type": "code",
      "metadata": {
        "id": "NJLDUrV08MRZ",
        "outputId": "afba5c0e-42ce-4d8e-900d-6f0186692a93"
      },
      "source": [
        "arr1 >= arr2"
      ],
      "execution_count": null,
      "outputs": [
        {
          "data": {
            "text/plain": [
              "array([[False,  True,  True],\n",
              "       [ True,  True,  True]])"
            ]
          },
          "execution_count": 76,
          "metadata": {},
          "output_type": "execute_result"
        }
      ]
    },
    {
      "cell_type": "code",
      "metadata": {
        "id": "RyUpvdL78MRZ",
        "outputId": "c21eb899-ad06-4d40-f696-f8318ee4255d"
      },
      "source": [
        "arr1 < arr2"
      ],
      "execution_count": null,
      "outputs": [
        {
          "data": {
            "text/plain": [
              "array([[ True, False, False],\n",
              "       [False, False, False]])"
            ]
          },
          "execution_count": 77,
          "metadata": {},
          "output_type": "execute_result"
        }
      ]
    },
    {
      "cell_type": "markdown",
      "metadata": {
        "id": "hytNjDjS8MRZ"
      },
      "source": [
        "배열 비교는 sum 메서드를 사용하여 두 배열의 동일한 요소 수를 계산하는 데 자주 사용됩니다. 부울이 산술 연산에 사용될 때 True는 1로 평가되고 False는 0으로 평가된다는 점을 기억하십시오."
      ]
    },
    {
      "cell_type": "code",
      "metadata": {
        "id": "XmpeF6td8MRa",
        "outputId": "27191d5a-fa28-42c2-bc14-9182bc68a0fc"
      },
      "source": [
        "(arr1 == arr2).sum()"
      ],
      "execution_count": null,
      "outputs": [
        {
          "data": {
            "text/plain": [
              "3"
            ]
          },
          "execution_count": 78,
          "metadata": {},
          "output_type": "execute_result"
        }
      ]
    },
    {
      "cell_type": "markdown",
      "metadata": {
        "id": "xq-6M49f8MRa"
      },
      "source": [
        "### 배열 인덱싱 및 슬라이싱\n",
        "Numpy는 `[]` 를 사용하여 Python의 목록 인덱싱 표기법을 직관적인 방식으로 다차원으로 확장합니다. Numpy 배열에서 특정 요소 또는 하위 배열(슬라이스라고도 함)을 선택하기 위해 쉼표로 구분된 인덱스 또는 범위 목록을 제공할 수 있습니다."
      ]
    },
    {
      "cell_type": "code",
      "metadata": {
        "id": "3ReghN6k8MRa"
      },
      "source": [
        "arr3 = np.array([\n",
        "    [[11, 12, 13, 14], \n",
        "     [13, 14, 15, 19]], \n",
        "    \n",
        "    [[15, 16, 17, 21], \n",
        "     [63, 92, 36, 18]], \n",
        "    \n",
        "    [[98, 32, 81, 23],      \n",
        "     [17, 18, 19.5, 43]]])"
      ],
      "execution_count": null,
      "outputs": []
    },
    {
      "cell_type": "code",
      "metadata": {
        "id": "-b5VKEtc8MRa",
        "outputId": "3bb744d2-3f47-4b6f-e3b9-b92ce7aeee8d"
      },
      "source": [
        "arr3.shape"
      ],
      "execution_count": null,
      "outputs": [
        {
          "data": {
            "text/plain": [
              "(3, 2, 4)"
            ]
          },
          "execution_count": 80,
          "metadata": {},
          "output_type": "execute_result"
        }
      ]
    },
    {
      "cell_type": "code",
      "metadata": {
        "id": "78vHZfnR8MRa",
        "outputId": "0dfadb8e-43e2-47a1-b478-ef6e21341757"
      },
      "source": [
        "# Single element\n",
        "arr3[1, 1, 2]"
      ],
      "execution_count": null,
      "outputs": [
        {
          "data": {
            "text/plain": [
              "36.0"
            ]
          },
          "execution_count": 81,
          "metadata": {},
          "output_type": "execute_result"
        }
      ]
    },
    {
      "cell_type": "code",
      "metadata": {
        "id": "IGRhcwUD8MRa",
        "outputId": "e3c26978-26ba-47fe-99f3-9265fb8203fc"
      },
      "source": [
        "# Subarray using ranges\n",
        "arr3[1:, 0:1, :2]"
      ],
      "execution_count": null,
      "outputs": [
        {
          "data": {
            "text/plain": [
              "array([[[15., 16.]],\n",
              "\n",
              "       [[98., 32.]]])"
            ]
          },
          "execution_count": 82,
          "metadata": {},
          "output_type": "execute_result"
        }
      ]
    },
    {
      "cell_type": "code",
      "metadata": {
        "id": "aif8bVII8MRa",
        "outputId": "8dd0883c-b2c1-408e-a770-3de2e4626a48"
      },
      "source": [
        "# Mixing indices and ranges\n",
        "arr3[1:, 1, 3]"
      ],
      "execution_count": null,
      "outputs": [
        {
          "data": {
            "text/plain": [
              "array([18., 43.])"
            ]
          },
          "execution_count": 83,
          "metadata": {},
          "output_type": "execute_result"
        }
      ]
    },
    {
      "cell_type": "code",
      "metadata": {
        "id": "bzlif2vn8MRb",
        "outputId": "ef68130d-2362-4d67-8073-d0ba40a417d5"
      },
      "source": [
        "# Mixing indices and ranges\n",
        "arr3[1:, 1, :3]"
      ],
      "execution_count": null,
      "outputs": [
        {
          "data": {
            "text/plain": [
              "array([[63. , 92. , 36. ],\n",
              "       [17. , 18. , 19.5]])"
            ]
          },
          "execution_count": 84,
          "metadata": {},
          "output_type": "execute_result"
        }
      ]
    },
    {
      "cell_type": "code",
      "metadata": {
        "id": "RahH8NVr8MRb",
        "outputId": "579b7807-7e56-450d-e271-5ee575b4d42f"
      },
      "source": [
        "# Using fewer indices\n",
        "arr3[1]"
      ],
      "execution_count": null,
      "outputs": [
        {
          "data": {
            "text/plain": [
              "array([[15., 16., 17., 21.],\n",
              "       [63., 92., 36., 18.]])"
            ]
          },
          "execution_count": 85,
          "metadata": {},
          "output_type": "execute_result"
        }
      ]
    },
    {
      "cell_type": "code",
      "metadata": {
        "id": "B4QkEBX88MRb",
        "outputId": "842d7df8-f112-4829-b26d-929dc52c0d72"
      },
      "source": [
        "# Using fewer indices\n",
        "arr3[:2, 1]"
      ],
      "execution_count": null,
      "outputs": [
        {
          "data": {
            "text/plain": [
              "array([[13., 14., 15., 19.],\n",
              "       [63., 92., 36., 18.]])"
            ]
          },
          "execution_count": 86,
          "metadata": {},
          "output_type": "execute_result"
        }
      ]
    },
    {
      "cell_type": "code",
      "metadata": {
        "id": "iUoutkoc8MRb",
        "outputId": "1218d874-55d4-4bcf-efcd-ba7e8921268d"
      },
      "source": [
        "# Using too many indices\n",
        "arr3[1,3,2,1]"
      ],
      "execution_count": null,
      "outputs": [
        {
          "ename": "IndexError",
          "evalue": "too many indices for array: array is 3-dimensional, but 4 were indexed",
          "output_type": "error",
          "traceback": [
            "\u001b[0;31m---------------------------------------------------------------------------\u001b[0m",
            "\u001b[0;31mIndexError\u001b[0m                                Traceback (most recent call last)",
            "\u001b[0;32m<ipython-input-87-fbde713646b3>\u001b[0m in \u001b[0;36m<module>\u001b[0;34m\u001b[0m\n\u001b[1;32m      1\u001b[0m \u001b[0;31m# Using too many indices\u001b[0m\u001b[0;34m\u001b[0m\u001b[0;34m\u001b[0m\u001b[0;34m\u001b[0m\u001b[0m\n\u001b[0;32m----> 2\u001b[0;31m \u001b[0marr3\u001b[0m\u001b[0;34m[\u001b[0m\u001b[0;36m1\u001b[0m\u001b[0;34m,\u001b[0m\u001b[0;36m3\u001b[0m\u001b[0;34m,\u001b[0m\u001b[0;36m2\u001b[0m\u001b[0;34m,\u001b[0m\u001b[0;36m1\u001b[0m\u001b[0;34m]\u001b[0m\u001b[0;34m\u001b[0m\u001b[0;34m\u001b[0m\u001b[0m\n\u001b[0m",
            "\u001b[0;31mIndexError\u001b[0m: too many indices for array: array is 3-dimensional, but 4 were indexed"
          ]
        }
      ]
    },
    {
      "cell_type": "markdown",
      "metadata": {
        "id": "v0CW9HKM8MRb"
      },
      "source": [
        "표기법과 그 결과가 처음에는 혼란스러워 보일 수 있으므로 시간을 내어 실험하고 익숙해집니다. 아래 셀을 사용하여 다양한 인덱스 및 범위 조합을 사용하여 배열 인덱싱 및 슬라이싱의 몇 가지 예를 시도해 보십시오. 다음은 시각적으로 보여지는 몇 가지 예입니다.\n",
        "<br>\n",
        "<img src=\"https://scipy-lectures.org/_images/numpy_indexing.png\" width=\"360\">"
      ]
    },
    {
      "cell_type": "code",
      "metadata": {
        "id": "2YOO38bc8MRb"
      },
      "source": [
        ""
      ],
      "execution_count": null,
      "outputs": []
    },
    {
      "cell_type": "code",
      "metadata": {
        "id": "2ouBDvx28MRb"
      },
      "source": [
        ""
      ],
      "execution_count": null,
      "outputs": []
    },
    {
      "cell_type": "code",
      "metadata": {
        "id": "Eft6eSAp8MRb"
      },
      "source": [
        ""
      ],
      "execution_count": null,
      "outputs": []
    },
    {
      "cell_type": "code",
      "metadata": {
        "id": "iN-bfpCZ8MRb"
      },
      "source": [
        ""
      ],
      "execution_count": null,
      "outputs": []
    },
    {
      "cell_type": "markdown",
      "metadata": {
        "id": "J7QphGG78MRc"
      },
      "source": [
        "### Numpy 배열을 만드는 다른 방법\n",
        "Numpy는 또한 고정 또는 임의 값으로 원하는 모양의 배열을 생성하는 몇 가지 편리한 기능을 제공합니다. 공식 문서를 확인하거나 도움말 기능을 사용하여 자세히 알아보세요."
      ]
    },
    {
      "cell_type": "code",
      "metadata": {
        "id": "jNh9FLlI8MRc",
        "outputId": "0752b5f7-397b-4cb9-8b34-b1c6375a559f"
      },
      "source": [
        "# All zeros\n",
        "np.zeros((3, 2))"
      ],
      "execution_count": null,
      "outputs": [
        {
          "data": {
            "text/plain": [
              "array([[0., 0.],\n",
              "       [0., 0.],\n",
              "       [0., 0.]])"
            ]
          },
          "execution_count": 88,
          "metadata": {},
          "output_type": "execute_result"
        }
      ]
    },
    {
      "cell_type": "code",
      "metadata": {
        "id": "pSWUImOY8MRc",
        "outputId": "43b92614-a4ce-4046-ac30-bb893907a04b"
      },
      "source": [
        "# All ones\n",
        "np.ones([2, 2, 3])"
      ],
      "execution_count": null,
      "outputs": [
        {
          "data": {
            "text/plain": [
              "array([[[1., 1., 1.],\n",
              "        [1., 1., 1.]],\n",
              "\n",
              "       [[1., 1., 1.],\n",
              "        [1., 1., 1.]]])"
            ]
          },
          "execution_count": 89,
          "metadata": {},
          "output_type": "execute_result"
        }
      ]
    },
    {
      "cell_type": "code",
      "metadata": {
        "id": "iw8B_YFt8MRc",
        "outputId": "7a54b81c-38b9-4a69-9b20-7541831be526"
      },
      "source": [
        "# Identity matrix\n",
        "np.eye(3)"
      ],
      "execution_count": null,
      "outputs": [
        {
          "data": {
            "text/plain": [
              "array([[1., 0., 0.],\n",
              "       [0., 1., 0.],\n",
              "       [0., 0., 1.]])"
            ]
          },
          "execution_count": 90,
          "metadata": {},
          "output_type": "execute_result"
        }
      ]
    },
    {
      "cell_type": "code",
      "metadata": {
        "id": "loF7h9U-8MRc",
        "outputId": "40381743-a973-4d40-933e-c4b9afa0bc53"
      },
      "source": [
        "# Random vector\n",
        "np.random.rand(5)"
      ],
      "execution_count": null,
      "outputs": [
        {
          "data": {
            "text/plain": [
              "array([0.8208279 , 0.93801216, 0.44954753, 0.17816933, 0.32049174])"
            ]
          },
          "execution_count": 91,
          "metadata": {},
          "output_type": "execute_result"
        }
      ]
    },
    {
      "cell_type": "code",
      "metadata": {
        "id": "Cn-x8sdt8MRc",
        "outputId": "540f1eb4-45ba-4b01-b3b3-99ccfe1d8197"
      },
      "source": [
        "# Random matrix\n",
        "np.random.randn(2, 3) # rand vs. randn - what's the difference?"
      ],
      "execution_count": null,
      "outputs": [
        {
          "data": {
            "text/plain": [
              "array([[ 0.83775   ,  1.13851471, -0.79147694],\n",
              "       [ 0.56320765,  1.00386056, -0.42502339]])"
            ]
          },
          "execution_count": 92,
          "metadata": {},
          "output_type": "execute_result"
        }
      ]
    },
    {
      "cell_type": "code",
      "metadata": {
        "id": "DbuOMz3E8MRd",
        "outputId": "7621c6c9-287d-45b4-c993-63f41377212a"
      },
      "source": [
        "# Fixed value\n",
        "np.full([2, 3], 42)"
      ],
      "execution_count": null,
      "outputs": [
        {
          "data": {
            "text/plain": [
              "array([[42, 42, 42],\n",
              "       [42, 42, 42]])"
            ]
          },
          "execution_count": 93,
          "metadata": {},
          "output_type": "execute_result"
        }
      ]
    },
    {
      "cell_type": "code",
      "metadata": {
        "id": "JaCk3Sea8MRd",
        "outputId": "e3e675ae-baec-49bd-fd54-73867bd382c9"
      },
      "source": [
        "# Range with start, end and step\n",
        "np.arange(10, 90, 3)"
      ],
      "execution_count": null,
      "outputs": [
        {
          "data": {
            "text/plain": [
              "array([10, 13, 16, 19, 22, 25, 28, 31, 34, 37, 40, 43, 46, 49, 52, 55, 58,\n",
              "       61, 64, 67, 70, 73, 76, 79, 82, 85, 88])"
            ]
          },
          "execution_count": 94,
          "metadata": {},
          "output_type": "execute_result"
        }
      ]
    },
    {
      "cell_type": "code",
      "metadata": {
        "id": "E0hznMwG8MRd",
        "outputId": "bf6768ae-f9e1-47fd-d5f7-b3b29ae719bd"
      },
      "source": [
        "# Equally spaced numbers in a range\n",
        "np.linspace(3, 27, 9)"
      ],
      "execution_count": null,
      "outputs": [
        {
          "data": {
            "text/plain": [
              "array([ 3.,  6.,  9., 12., 15., 18., 21., 24., 27.])"
            ]
          },
          "execution_count": 95,
          "metadata": {},
          "output_type": "execute_result"
        }
      ]
    },
    {
      "cell_type": "markdown",
      "metadata": {
        "id": "ODA6_fxi8MRd"
      },
      "source": [
        "# Exercises"
      ]
    },
    {
      "cell_type": "markdown",
      "metadata": {
        "id": "z61_Qe0E8MRd"
      },
      "source": [
        "1. 벡터란 무엇입니까?\n",
        "1. Python 목록을 사용하여 벡터를 어떻게 표현합니까? 예를 들어 주십시오.\n",
        "1. 두 벡터의 내적은 무엇입니까?\n",
        "1. 두 벡터의 내적을 계산하는 함수를 작성하십시오.\n",
        "1. Numpy 배열이란 무엇입니까?\n",
        "1. Numpy 배열은 어떻게 만듭니까? 예를 들어 주십시오.\n",
        "1. Numpy 배열의 유형은 무엇입니까?\n",
        "1. Numpy 배열의 요소에 어떻게 액세스합니까?\n",
        "1. Numpy를 사용하여 두 벡터의 내적을 어떻게 계산합니까?\n",
        "1. 크기가 다른 두 벡터의 내적을 계산하려고 하면 어떻게 됩니까?\n",
        "1. 두 Numpy 배열의 요소별 곱을 어떻게 계산합니까?\n",
        "1. Numpy 배열의 모든 요소의 합을 어떻게 계산합니까?\n",
        "1. 숫자 데이터 작업을 위해 Python 목록보다 Numpy 배열을 사용하면 어떤 이점이 있습니까?\n",
        "1. Numpy 배열 작업이 Python 함수 및 루프에 비해 성능이 더 나은 이유는 무엇입니까?\n",
        "1. 예제를 사용하여 Numpy 배열 작업과 Python 루프 간의 성능 차이를 보여줍니다.\n",
        "1. 다차원 Numpy 배열이란 무엇입니까?\n",
        "1. 2, 3, 4차원의 Numpy 배열 생성을 보여줍니다.\n",
        "1. Numpy 배열에서 각 차원의 차원 수와 길이를 어떻게 검사합니까?\n",
        "1. Numpy 배열의 요소가 다른 데이터 유형을 가질 수 있습니까?\n",
        "1. Numpy 배열 요소의 데이터 유형을 어떻게 확인합니까?\n",
        "1. Numpy 배열의 데이터 유형은 무엇입니까?\n",
        "1. 행렬과 2D Numpy 배열의 차이점은 무엇입니까?\n",
        "1. Numpy를 사용하여 행렬 곱셈을 어떻게 수행합니까?\n",
        "1. Numpy에서 `@` 연산자는 무엇에 사용됩니까?\n",
        "1. CSV 파일 형식은 무엇입니까?\n",
        "1. Numpy를 사용하여 CSV 파일에서 데이터를 어떻게 읽습니까?\n",
        "1. 두 개의 Numpy 배열을 어떻게 연결합니까?\n",
        "1. `np.concatenate` 의 axis 인수의 목적은 무엇입니까?\n",
        "1. 두 개의 Numpy 배열이 연결에 호환되는 경우는 언제입니까?\n",
        "1. 연결할 수 있는 두 개의 Numpy 배열의 예를 제공하십시오.\n",
        "1. 연결할 수 없는 두 개의 Numpy 배열의 예를 제공하십시오.\n",
        "1. `np.reshape` 함수의 목적은 무엇입니까?\n",
        "1. Numpy 배열을 \"재구성\"한다는 것은 무엇을 의미합니까?\n",
        "1. CSV 파일에 numpy 배열을 어떻게 작성합니까?\n",
        "1. 수학 연산을 수행하기 위한 Numpy 함수의 몇 가지 예를 제시하십시오.\n",
        "1. 배열 조작을 수행하기 위한 Numpy 함수의 몇 가지 예를 제공하십시오.\n",
        "1. 선형 대수를 수행하기 위한 Numpy 함수의 몇 가지 예를 제시하십시오.\n",
        "1. 통계 연산을 수행하기 위한 Numpy 함수의 몇 가지 예를 제시하십시오.\n",
        "1. 특정 작업이나 사용 사례에 적합한 Numpy 기능을 어떻게 찾습니까?\n",
        "1. 모든 Numpy 배열 함수 및 작업 목록은 어디에서 볼 수 있습니까?\n",
        "1. Numpy 배열에서 지원하는 산술 연산자는 무엇입니까? 예를 들어 설명합니다.\n",
        "1. 배열 방송이란 무엇입니까? 어떻게 유용합니까? 예를 들어 설명합니다.\n",
        "1. 브로드캐스팅과 호환되는 어레이의 몇 가지 예를 들어 주시겠습니까?\n",
        "1. 브로드캐스팅과 호환되지 않는 배열의 예를 몇 가지 제시하십시오.\n",
        "1. Numpy 배열에서 지원하는 비교 연산자는 무엇입니까? 예를 들어 설명합니다.\n",
        "1. Numpy 배열에서 특정 하위 배열 또는 슬라이스에 어떻게 액세스합니까?\n",
        "1. 몇 가지 예를 들어 다차원 Numpy 배열에서 배열 인덱싱 및 슬라이싱을 설명합니다.\n",
        "1. 모든 0을 포함하는 주어진 모양으로 Numpy 배열을 어떻게 생성합니까?\n",
        "1. 모든 것을 포함하는 주어진 모양으로 Numpy 배열을 어떻게 생성합니까?\n",
        "1. 주어진 모양의 단위 행렬을 어떻게 생성합니까?\n",
        "1. 주어진 길이의 임의 벡터를 어떻게 생성합니까?\n",
        "1. 각 요소에 대해 고정 값을 사용하여 주어진 모양으로 Numpy 배열을 어떻게 생성합니까?\n",
        "1. 무작위로 초기화된 요소를 포함하는 주어진 모양으로 Numpy 배열을 어떻게 생성합니까?\n",
        "1. `np.random.rand` 와 `np.random.randn` 의 차이점은 무엇입니까? 예를 들어 설명합니다.\n",
        "1. `np.arange` 와 `np.linspace` 의 차이점은 무엇입니까? 예를 들어 설명합니다."
      ]
    },
    {
      "cell_type": "code",
      "metadata": {
        "id": "72F3QkOR8MRd"
      },
      "source": [
        ""
      ],
      "execution_count": null,
      "outputs": []
    }
  ]
}